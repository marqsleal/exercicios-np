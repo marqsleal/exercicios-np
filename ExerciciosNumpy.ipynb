{
  "cells": [
    {
      "cell_type": "markdown",
      "metadata": {
        "colab_type": "text",
        "id": "view-in-github"
      },
      "source": [
        "<a href=\"https://colab.research.google.com/github/robertosgpontes/tec_prog_1/blob/main/ExerciciosNumpy.ipynb\" target=\"_parent\"><img src=\"https://colab.research.google.com/assets/colab-badge.svg\" alt=\"Open In Colab\"/></a>"
      ]
    },
    {
      "cell_type": "code",
      "execution_count": 2,
      "metadata": {},
      "outputs": [],
      "source": [
        "import numpy as np"
      ]
    },
    {
      "cell_type": "markdown",
      "metadata": {
        "id": "eX5x6-bjE6hN"
      },
      "source": [
        "## Questão 1\n",
        "\n",
        "Crie um array 100 com valores aleatórios e ache os valores máximo e mínimo"
      ]
    },
    {
      "cell_type": "code",
      "execution_count": 7,
      "metadata": {
        "id": "kYKS_ae1E6hP"
      },
      "outputs": [
        {
          "name": "stdout",
          "output_type": "stream",
          "text": [
            "array: [0.20702892 0.47264068 0.14546102 0.61713166 0.13251071 0.20367119\n",
            " 0.11333402 0.36056732 0.88632409 0.36272178 0.94158977 0.82211108\n",
            " 0.44532553 0.28158824 0.39441032 0.5639596  0.67191585 0.48175991\n",
            " 0.94586011 0.47974291 0.95943941 0.54834578 0.76570692 0.70309232\n",
            " 0.65864489 0.56622801 0.2966015  0.64762667 0.74849013 0.02218229\n",
            " 0.25854054 0.86741892 0.20539187 0.20760543 0.2441577  0.24806877\n",
            " 0.88692161 0.26447038 0.27662834 0.5534996  0.87104428 0.35392001\n",
            " 0.91121722 0.06645343 0.01246683 0.93017041 0.98393904 0.87342325\n",
            " 0.71812717 0.67279501 0.44182378 0.51427015 0.23554956 0.75222352\n",
            " 0.6984564  0.97858633 0.24796572 0.62610283 0.08795707 0.56838365\n",
            " 0.00629447 0.51335284 0.59924716 0.70989833 0.04195423 0.41900894\n",
            " 0.82526156 0.63685101 0.73940578 0.71634822 0.47715885 0.02621765\n",
            " 0.50281769 0.21458939 0.6104322  0.77973384 0.7451347  0.39219217\n",
            " 0.1192852  0.0216323  0.18288186 0.92797395 0.71649834 0.25032051\n",
            " 0.95665681 0.49369348 0.12135887 0.83844329 0.21736474 0.12692189\n",
            " 0.26194063 0.3525589  0.61630998 0.95391806 0.87809512 0.22879733\n",
            " 0.88026044 0.56812262 0.29631214 0.66173695]\n",
            "valor max: 0.9839390411370182, valor min: 0.006294465336491029\n"
          ]
        }
      ],
      "source": [
        "arr = np.random.rand(100)\n",
        "# arr = np.random.randint(0, 100, 100)\n",
        "print(f'array: {arr}')\n",
        "arr_max, arr_min = max(arr), min(arr)\n",
        "print(f'valor max: {arr_max}, valor min: {arr_min}')"
      ]
    },
    {
      "cell_type": "markdown",
      "metadata": {
        "id": "qT9pSHp4E6hQ"
      },
      "source": [
        "## Questão 2\n",
        "Em Geometria Analítica, um **vetor** é uma quantidade que pode ser definida por um énuplo (uma sequência ordenada de *n* elementos) em que cada elemento representa a intensidade do vetor na direção especificada pela i-ésima componente desta sequência. \n",
        "\n",
        "Quando pensamos em duas dimensões, por exemplo, o vetor $R = (b,a)$ define, geometricamente, a entidade representada na figura abaixo, com componentes nos eixos x e y usuais.\n",
        "\n",
        "<img src = \"https://static.todamateria.com.br/upload/im/ag/image-721.jpg?auto_optimize=low\" />\n",
        "\n",
        "O **módulo** deste vetor, também chamado de intensidade, está geometricamente relacionado ao seu comprimento, e pode ser calculado diretamente pelas suas componentes, por meio de uma operação conhecida como **produto escalar** do vetor com ele mesmo. O módulo quadrático é expresso, desta forma, por:\n",
        "\n",
        "$|A|^2 = \\vec{A} \\cdot \\vec{A}$\n",
        "\n",
        "Por outro lado, o produto escalar entre dois vetores $A = (a_{x}, a_{y})$ e $B = (b_{x}, b_{y})$ é dado por:\n",
        "\n",
        "$\\vec{A} \\cdot \\vec{B} = a_{x} \\times b_{x} + a_{y} \\times b_{y}$ (e esta definição vale para qualquer que seja a dimensão do vetor).\n",
        "\n",
        "O módulo quadrático de um vetor é, portanto:\n",
        "\n",
        "$|A|² = a_{x}^2 + b_{x}^2$."
      ]
    },
    {
      "cell_type": "markdown",
      "metadata": {
        "id": "-ZU6W86sE6hT"
      },
      "source": [
        "Dado o exposto acima, escreva uma função que retorne o módulo de um vetor n-dimensional qualquer."
      ]
    },
    {
      "cell_type": "code",
      "execution_count": 12,
      "metadata": {},
      "outputs": [
        {
          "name": "stdout",
          "output_type": "stream",
          "text": [
            "vetor: [0 1 2 2 3 4 5 7 8 9]\n",
            "modulo: 15.905973720586866, modulo quadrático: 253, \n"
          ]
        }
      ],
      "source": [
        "arr = np.sort(np.random.randint(0, 10, 10))\n",
        "print(f'vetor: {arr}')\n",
        "modulo = np.linalg.norm(arr)\n",
        "modulo_quad = np.dot(arr, arr)\n",
        "print(f'modulo: {modulo}, modulo quadrático: {modulo_quad}, ')\n"
      ]
    },
    {
      "cell_type": "markdown",
      "metadata": {
        "id": "CRZdfzLgE6hU"
      },
      "source": [
        "## Questão 3\n",
        "\n",
        "Em uma **análise de regressão**, usualmente estamos interessados em descrever relações entre variáveis de um dado conjunto de dados por meio de uma **função** que descreva, o tanto quanto possível, estas relações.\n",
        "\n",
        "Por exemplo, no gráfico abaixo, os pontos vermelhos relacionam as medidas das duas variáveis sendo avaliadas (nos eixos x e y); e a linha azul aproxima a relação entre elas por uma função linear."
      ]
    },
    {
      "cell_type": "markdown",
      "metadata": {
        "id": "180Vp7AZE6hV"
      },
      "source": [
        "![Normdist_regression.png](https://miro.medium.com/v2/resize:fit:786/format:webp/1*LEmBCYAttxS6uI6rEyPLMQ.png)"
      ]
    },
    {
      "cell_type": "markdown",
      "metadata": {
        "id": "oQ1RFXOAE6hV"
      },
      "source": [
        "É possível ver que nem todos os pontos obedecem exatamente à relação ditada pela reta (isto é, há pontos que não estão exatamente \"sobre a reta\"; mas, sim, ligeraimente acima, ou abaixo, dela). Isto, contudo, é esperado em um modelo de regressão, por inúmeras fontes de incerteza associadas às medições."
      ]
    },
    {
      "cell_type": "markdown",
      "metadata": {
        "id": "XGWoc_O2E6hW"
      },
      "source": [
        "Uma das métricas que utilizamos para avaliar a qualidade de uma regressão é o **erro quadrático médio (EQM)**, que mensura a diferença total entre cada predição da regressão ($y_{prediction}$; que no nosso caso seriam os valores de y para a reta azul) com o valor real de cada i-ésima medida ($y_{i}$; que no nosso caso seriam as coordenadas y para cada ponto vermelho do gráfico). O EQM pode ser definido como:"
      ]
    },
    {
      "cell_type": "markdown",
      "metadata": {
        "id": "CjgOdTD6E6hX"
      },
      "source": [
        "$EQM = \\frac{1}{n}\\sum_{i=1}^{n}(y_{prediction} - y_{i})^2$."
      ]
    },
    {
      "cell_type": "markdown",
      "metadata": {
        "id": "qeXCrbmbE6hY"
      },
      "source": [
        "Isto posto, escreva uma função que calcule o EQM recebendo, como entrada, os vetores $y_{prediction}$ e $y_{i}$. Por exemplo, digamos que sua função se chame *calculate_eqm*, ela deve operar da seguinte forma:"
      ]
    },
    {
      "attachments": {},
      "cell_type": "markdown",
      "metadata": {},
      "source": [
        "```python\n",
        "\n",
        "# dados dois arrays quaisquer de mesmo tamanho, a função deve retornar o EQM\n",
        "y_prediction = np.array([1,2,3])\n",
        "y_i = np.array([0,0,3])\n",
        "calculate_eqm(y_prediction,y_i)\n",
        "\n",
        ">>> 1.6666666666666665\n",
        "\n",
        "```"
      ]
    },
    {
      "cell_type": "code",
      "execution_count": 18,
      "metadata": {
        "id": "bwiTGuuoE6hb"
      },
      "outputs": [
        {
          "name": "stdout",
          "output_type": "stream",
          "text": [
            "1.6666666666666667\n"
          ]
        }
      ],
      "source": [
        "# Solução\n",
        "def calculate_eqm(y_prediction, y_i):\n",
        "    return np.mean((y_prediction - y_i)**2)\n",
        "\n",
        "y_prediction = np.array([1,2,3])\n",
        "y_i = np.array([0,0,3])\n",
        "print(calculate_eqm(y_prediction,y_i))"
      ]
    },
    {
      "cell_type": "markdown",
      "metadata": {
        "id": "Wh0_a8PjE6hc"
      },
      "source": [
        "## Questão 4\n",
        "\n",
        "Crie um array 2D (bidimensional) com 1 na borda e 0 dentro"
      ]
    },
    {
      "cell_type": "code",
      "execution_count": 37,
      "metadata": {},
      "outputs": [
        {
          "name": "stdout",
          "output_type": "stream",
          "text": [
            "[[0 0 0 0]\n",
            " [0 0 0 0]\n",
            " [0 0 0 0]\n",
            " [0 0 0 0]] \n",
            "\n",
            " [[1 1 1 1]\n",
            " [1 0 0 1]\n",
            " [1 0 0 1]\n",
            " [1 1 1 1]]\n"
          ]
        }
      ],
      "source": [
        "def arr_2d_bordas(arr_2d, char):\n",
        "    linhas, colunas = arr_2d.shape\n",
        "    for i in range(linhas): # itera sobre linhas\n",
        "        for j in range(colunas): # itera sobre colunas\n",
        "            if i == 0 or i == (linhas-1): # checa se é a primeira ou a ultima linha\n",
        "                arr_2d[i, j] = char\n",
        "            if j == 0 or j == (colunas-1): # checa se é a primeira ou a ultima coluna\n",
        "                arr_2d[i, j] = char\n",
        "    return arr_2d\n",
        "\n",
        "arr_2d = np.zeros((4,4), dtype=int)\n",
        "print(f'{arr_2d} \\n\\n {arr_2d_bordas(arr_2d, 1)}')\n"
      ]
    },
    {
      "cell_type": "markdown",
      "metadata": {
        "id": "U1CntgkZE6hc"
      },
      "source": [
        "## Questão 5\n",
        "\n",
        "Como adicionar uma borda de 0's ao redor de um array 2D (bidimensional) existente"
      ]
    },
    {
      "cell_type": "code",
      "execution_count": 40,
      "metadata": {},
      "outputs": [
        {
          "name": "stdout",
          "output_type": "stream",
          "text": [
            "[[1 1 1 1]\n",
            " [1 1 1 1]\n",
            " [1 1 1 1]\n",
            " [1 1 1 1]]\n",
            "[[0 0 0 0 0 0]\n",
            " [0 1 1 1 1 0]\n",
            " [0 1 1 1 1 0]\n",
            " [0 1 1 1 1 0]\n",
            " [0 1 1 1 1 0]\n",
            " [0 0 0 0 0 0]]\n"
          ]
        }
      ],
      "source": [
        "arr_2d = np.ones((4,4), dtype=int)\n",
        "print(arr_2d)\n",
        "\n",
        "borda_arr = np.pad(arr_2d, pad_width=1, mode='constant', constant_values=0)\n",
        "print(borda_arr)"
      ]
    },
    {
      "cell_type": "markdown",
      "metadata": {
        "id": "qHh149eAE6hd"
      },
      "source": [
        "## Questão 6\n",
        "\n",
        " A eletroencefalografia (EEG) é uma técnica que mensura potenciais elétricos cerebrais em diversas regiões do escalpo do paciente. Suponha que você recebeu um conjunto de dados na forma de uma matriz de 64 x 512 elementos, em que cada linha contém o sinal gravado em um dos **eletrodos** espalhados pelo escalpo em um exame de EEG, e cada coluna contém um valor de potencial elétrico, em microvolts. "
      ]
    },
    {
      "cell_type": "markdown",
      "metadata": {
        "id": "BRDY8u09E6hd"
      },
      "source": [
        "Como o sinal de EEG é muito suscetível a ruídos externos (interferências na qualidade do sinal), uma operação comum para atenuar a interferência no sinal consiste em tirar a média do potencial elétrico de todos os eletrodos, e subtrair este valor de cada um deles. Isto atenua fontes de ruído ao sinal comuns a todos os eletrodos. Em termos matemáticos, o sinal processado por esta operação, $X_{e,i}$ para cada eletrodo (e) e amostra (i), é dado por:"
      ]
    },
    {
      "cell_type": "markdown",
      "metadata": {
        "id": "NHLeT5deE6he"
      },
      "source": [
        "$X_{e,i} = \\hat{X_{e,i}} - \\frac{1}{N}\\sum_{e=1}^{N}\\hat{X_{e,i}}$,\n",
        "\n",
        "em que $\\hat{X_{e,i}}$ representa o sinal original (ou seja, é a matriz de entrada de 64 x 512 elementos), e $N$ indica o total de eletrodos."
      ]
    },
    {
      "cell_type": "markdown",
      "metadata": {
        "id": "ToiE-omdE6he"
      },
      "source": [
        "Com o exposto acima, escreva uma função que retorne uma matriz com os sinais de EEG processados conforme a operação mencionada. Sua função deve operar conforme o exemplo abaixo."
      ]
    },
    {
      "attachments": {},
      "cell_type": "markdown",
      "metadata": {},
      "source": [
        "```python\n",
        "\n",
        "# vamos supor uma matriz de entrada gerada por dados aleatórios\n",
        "X = np.random.randn(64,512)\n",
        "X.shape # apenas para verificar as dimensões\n",
        ">>> (64, 512)\n",
        "\n",
        "# a função deve executar a operação equacionada anteriormente, retornando uma nova matriz\n",
        "X_processado = process_EEG_signal(X)\n",
        "X_processado.shape\n",
        ">>> (64, 512)\n",
        "\n",
        "# Somando as diferenças entre cada elemento das duas matrizes, apenas para ilustrar que elas não são iguais\n",
        "(X_processado - X).sum()\n",
        ">>> -53.08727366483029\n",
        "\n",
        "# Visualizando as matrizes, para verificar uma vez mais que, de fato, os elementos são diferentes\n",
        "X\n",
        ">>> array([[ 0.29305925,  0.89663038, -0.61032202, ..., -0.88086364,\n",
        "        -0.8818789 ,  0.51260497],\n",
        "       [-0.01274415,  1.05439522,  0.47958092, ..., -2.15387924,\n",
        "         0.70721168,  0.97029889],\n",
        "       [ 1.09478371, -0.16120847,  1.58400361, ...,  0.20981813,\n",
        "         2.17373837,  0.94032162],\n",
        "       ...,\n",
        "       [-0.45294842, -2.28939505,  1.10111998, ...,  1.63581703,\n",
        "        -0.39394924, -1.13400723],\n",
        "       [-0.22669886,  0.25413429, -1.17870637, ..., -0.09509442,\n",
        "         0.90733806,  0.37999411],\n",
        "       [ 0.15476933, -0.03654717, -1.09982762, ...,  0.67600047,\n",
        "        -0.84533328, -0.56433144]])\n",
        "\n",
        "# Matriz após o processamento descrito no enunciado\n",
        "X_processado\n",
        "\n",
        ">>> array([[ 0.36713022,  0.85772513, -0.54902169, ..., -0.85626087,\n",
        "        -0.97611435,  0.51718998],\n",
        "       [ 0.06132682,  1.01548997,  0.54088126, ..., -2.12927647,\n",
        "         0.61297623,  0.97488389],\n",
        "       [ 1.16885469, -0.20011372,  1.64530394, ...,  0.23442091,\n",
        "         2.07950292,  0.94490663],\n",
        "       ...,\n",
        "       [-0.37887744, -2.3283003 ,  1.16242031, ...,  1.6604198 ,\n",
        "        -0.4881847 , -1.12942223],\n",
        "       [-0.15262788,  0.21522904, -1.11740604, ..., -0.07049164,\n",
        "         0.81310261,  0.38457911],\n",
        "       [ 0.22884031, -0.07545242, -1.03852729, ...,  0.70060324,\n",
        "        -0.93956874, -0.55974643]])\n",
        "\n",
        "```"
      ]
    },
    {
      "cell_type": "code",
      "execution_count": 59,
      "metadata": {
        "id": "OlxjvCnQE6hj"
      },
      "outputs": [
        {
          "name": "stdout",
          "output_type": "stream",
          "text": [
            "sinal puro: [[0.74712726 0.65880918 0.6435218  ... 0.93175201 0.74575392 0.92690853]\n",
            " [0.91464754 0.34581609 0.1393361  ... 0.19049155 0.44933249 0.64080655]\n",
            " [0.02133573 0.77083124 0.70631068 ... 0.50898892 0.38150556 0.86215251]\n",
            " ...\n",
            " [0.25789308 0.17207089 0.1789946  ... 0.79310196 0.23556521 0.01141173]\n",
            " [0.05856417 0.99529194 0.75650627 ... 0.81214395 0.88411558 0.19395718]\n",
            " [0.4858172  0.83795158 0.38291561 ... 0.2766867  0.46980018 0.96902933]] \n",
            "\n",
            " media: 0.5002881726879276 \n",
            "\n",
            " sinal processado: [[ 0.24683908  0.15852101  0.14323363 ...  0.43146384  0.24546575\n",
            "   0.42662036]\n",
            " [ 0.41435937 -0.15447208 -0.36095207 ... -0.30979662 -0.05095568\n",
            "   0.14051838]\n",
            " [-0.47895244  0.27054307  0.20602251 ...  0.00870075 -0.11878261\n",
            "   0.36186433]\n",
            " ...\n",
            " [-0.24239509 -0.32821728 -0.32129357 ...  0.29281379 -0.26472296\n",
            "  -0.48887644]\n",
            " [-0.441724    0.49500377  0.25621809 ...  0.31185578  0.38382741\n",
            "  -0.30633099]\n",
            " [-0.01447098  0.33766341 -0.11737257 ... -0.22360147 -0.030488\n",
            "   0.46874115]]\n"
          ]
        }
      ],
      "source": [
        "# Solução\n",
        "\n",
        "def process_ECG_matrix(ecg_matrix):\n",
        "    process_matrix = ecg_matrix.copy()\n",
        "    media = np.mean(ecg_matrix)\n",
        "    # linhas, colunas = ecg_matrix.shape\n",
        "    # for i in range(linhas):\n",
        "    #     for j in range(colunas):\n",
        "    #         process_matrix[i, j] = ecg_matrix[i, j] - media\n",
        "    #         #print(f'pos{i, j}: {ecg_matrix[i, j]} - {media} = {process_matrix[i, j]}')\n",
        "    process_matrix -= media\n",
        "    return process_matrix\n",
        "\n",
        "ecg_matrix = np.random.rand(64, 512)\n",
        "\n",
        "process_matrix = process_ECG_matrix(ecg_matrix)\n",
        "\n",
        "print(f'sinal puro: {ecg_matrix[:, :]} \\n\\n media: {np.mean(ecg_matrix)} \\n\\n sinal processado: {process_matrix[:, :]}')\n"
      ]
    },
    {
      "attachments": {},
      "cell_type": "markdown",
      "metadata": {
        "id": "7Gy6nTwQE6hj"
      },
      "source": [
        "## Questão 7\n",
        "\n",
        "Em estatística, um **outlier** é um valor que destoa consideravelmente da distribuição à qual está associado. Um dos critérios para idenficar outliers consiste em encontrar a **distância interquantil** (IQR), ou seja, a diferença entre o terceiro (Q3) e o primeiro quartis (Q1) da distribuição, e tomar como outliers todos os pontos abaixo do Limite Inferior (LI = Q1 - 1.5*IQR  ), ou acima do Limite Superior (LS = Q3 + 1.5*IQR)."
      ]
    },
    {
      "attachments": {},
      "cell_type": "markdown",
      "metadata": {},
      "source": [
        "![image.png](https://s3-sa-east-1.amazonaws.com/lcpi/0d8a7b04-b982-4e6b-9fc7-fbb062247d8d.png)\n"
      ]
    },
    {
      "cell_type": "markdown",
      "metadata": {
        "id": "CP-NkMHTE6hk"
      },
      "source": [
        "<img src = \"https://blog.curso-r.com/images/posts/banner/outlier.webp\" />"
      ]
    },
    {
      "cell_type": "markdown",
      "metadata": {
        "id": "BLDJN5JPE6hk"
      },
      "source": [
        "Escreva uma função que, dada uma matriz de dados de entrada de dimensões $N_{observações} \\times N_{features}$ retorne três requisitos: \n",
        "- uma matriz booleana indicando a existência de outliers nos dados de entrada;\n",
        "- a quantidade de outliers\n",
        "- quem são os outliers (os valores)."
      ]
    },
    {
      "cell_type": "markdown",
      "metadata": {
        "id": "wwVcP2uZE6hl"
      },
      "source": [
        "**Algumas definições:**\n",
        "- um *quantil* divide a distribuição, após ordenados os pontos, segundo algum ponto de corte;\n",
        "- o **primeiro quartil** é o ponto para o qual 25 % dos valores da distribuição estão abaixo dele;\n",
        "- o **terceiro quartil** é o ponto para o qual 75 % dos valores da distribuição estão abaixo dele.\n",
        "\n",
        "Pode ser útil consultar a função **numpy.quantile**."
      ]
    },
    {
      "cell_type": "markdown",
      "metadata": {
        "id": "C9nCKXhjE6hm"
      },
      "source": [
        "Exemplo de operação da função:"
      ]
    },
    {
      "attachments": {},
      "cell_type": "markdown",
      "metadata": {},
      "source": [
        "```python\n",
        "# Geremos um conjunto de dados qualquer\n",
        "X = np.random.randn(300,15)\n",
        "X\n",
        "\n",
        ">>> array([[-2.02108952,  0.57945921, -2.23074965, ..., -0.60349514,\n",
        "         0.92180452, -0.15625722],\n",
        "       [ 0.24904397,  0.03493447,  0.3515052 , ..., -0.46950081,\n",
        "         0.20361331,  0.02715956],\n",
        "       [ 0.55902525, -0.48435434,  0.90413414, ..., -0.54425743,\n",
        "        -0.80769134, -0.07912549],\n",
        "       ...,\n",
        "       [-1.04069388, -0.24245725, -2.00308877, ...,  0.4084777 ,\n",
        "        -1.81516131,  0.39063118],\n",
        "       [-1.39275097,  0.3989636 ,  0.2926223 , ...,  1.2620666 ,\n",
        "         0.72262949,  1.50737559],\n",
        "       [ 0.15922011, -0.79810788, -1.60939896, ..., -0.08214499,\n",
        "        -0.13167475,  0.15990558]])\n",
        "\n",
        "\n",
        "# identificamos os requisitos com nossa com nossa função \"locate_outliers\"\n",
        "is_outlier, outliers_count, outliers = locate_outliers(X)\n",
        "\n",
        "is_outlier\n",
        ">>> array([[False, False, False, ..., False, False, False],\n",
        "       [False, False, False, ..., False, False, False],\n",
        "       [False, False, False, ..., False, False, False],\n",
        "       ...,\n",
        "       [False, False, False, ..., False, False, False],\n",
        "       [False, False, False, ..., False, False, False],\n",
        "       [False, False, False, ..., False, False, False]])\n",
        "\n",
        "outliers_count\n",
        ">>> 44\n",
        "\n",
        "outliers\n",
        ">>> array([-2.67240384,  3.00270904,  3.62317101,  3.18867865,  2.55581522,\n",
        "       -2.82091429,  2.8757892 ,  2.70666036,  3.19514999, -3.40550318,\n",
        "       -3.39825827,  2.6727295 ,  2.54498296, -2.69447104,  3.19521603,\n",
        "        2.66372172, -2.77444948,  2.77421152,  2.69992869, -2.84831109,\n",
        "       -2.83695779, -2.45908227,  3.07802106,  2.89314015, -2.68574682,\n",
        "       -2.85019494,  2.43399574,  2.44291266, -2.92595937, -2.95911074,\n",
        "       -3.03966003,  2.77543068, -2.67368414, -2.79965402, -3.0501958 ,\n",
        "       -2.5437387 ,  3.08550649, -3.17666255, -3.05795476, -3.09826467,\n",
        "        3.1399469 ,  3.18141942,  2.90564257, -2.89505054])\n",
        "\n",
        " ``` "
      ]
    },
    {
      "cell_type": "code",
      "execution_count": 46,
      "metadata": {
        "id": "AdTkst5UE6hq"
      },
      "outputs": [
        {
          "name": "stdout",
          "output_type": "stream",
          "text": [
            "Feature 0:\n",
            "Q1: -0.6274180467353927, Q3: 0.6986264297725779, IQR: 1.3260444765079706\n",
            "Limite Inferior: -2.6164847614973485, Limite Superior: 2.687693144534534\n",
            "Outliers na coluna: [-3.32074555  3.0803486 ]\n",
            "Feature 1:\n",
            "Q1: -0.6919398671966873, Q3: 0.6745458179433645, IQR: 1.3664856851400518\n",
            "Limite Inferior: -2.741668394906765, Limite Superior: 2.724274345653442\n",
            "Outliers na coluna: [-2.86725585  2.8256564  -3.4316643 ]\n",
            "Feature 2:\n",
            "Q1: -0.6544465626383329, Q3: 0.6332768730679781, IQR: 1.287723435706311\n",
            "Limite Inferior: -2.5860317161977995, Limite Superior: 2.564862026627445\n",
            "Outliers na coluna: [-2.72519701  2.91245063]\n",
            "Feature 3:\n",
            "Q1: -0.7409653850247042, Q3: 0.6007204529293431, IQR: 1.3416858379540473\n",
            "Limite Inferior: -2.753494141955775, Limite Superior: 2.613249209860414\n",
            "Outliers na coluna: [-2.83849212 -3.03521181 -2.77359943]\n",
            "Feature 4:\n",
            "Q1: -0.6710535158310915, Q3: 0.6131121279009601, IQR: 1.2841656437320517\n",
            "Limite Inferior: -2.597301981429169, Limite Superior: 2.5393605934990378\n",
            "Outliers na coluna: [ 2.87309944 -2.8099047  -2.85231036]\n",
            "Feature 5:\n",
            "Q1: -0.6838490088043035, Q3: 0.7817310133905573, IQR: 1.4655800221948607\n",
            "Limite Inferior: -2.8822190420965947, Limite Superior: 2.9801010466828486\n",
            "Outliers na coluna: [-3.18953839 -2.89337558 -3.40666994]\n",
            "Feature 6:\n",
            "Q1: -0.5174812050562755, Q3: 0.6654170528447965, IQR: 1.1828982579010718\n",
            "Limite Inferior: -2.2918285919078834, Limite Superior: 2.439764439696404\n",
            "Outliers na coluna: [ 3.14799582  2.67527482 -2.40547217  2.53097312  2.8933833   2.66525458]\n",
            "Feature 7:\n",
            "Q1: -0.7861657388207846, Q3: 0.7064487325281975, IQR: 1.4926144713489822\n",
            "Limite Inferior: -3.0250874458442576, Limite Superior: 2.9453704395516707\n",
            "Outliers na coluna: [ 3.40372825 -3.4978892 ]\n",
            "Feature 8:\n",
            "Q1: -0.5663573329516552, Q3: 0.6611503782518123, IQR: 1.2275077112034676\n",
            "Limite Inferior: -2.4076188997568564, Limite Superior: 2.5024119450570135\n",
            "Outliers na coluna: [-2.81912627  2.75044745 -2.70431215 -2.78522604]\n",
            "Feature 9:\n",
            "Q1: -0.5710021069160496, Q3: 0.6516311634002554, IQR: 1.222633270316305\n",
            "Limite Inferior: -2.404952012390507, Limite Superior: 2.485581068874713\n",
            "Outliers na coluna: [-2.58009848  3.59347047 -2.84794626]\n",
            "Feature 10:\n",
            "Q1: -0.602316795281622, Q3: 0.7270342296902746, IQR: 1.3293510249718965\n",
            "Limite Inferior: -2.5963433327394667, Limite Superior: 2.7210607671481193\n",
            "Outliers na coluna: []\n",
            "Feature 11:\n",
            "Q1: -0.6525110390601945, Q3: 0.5769619492445048, IQR: 1.2294729883046993\n",
            "Limite Inferior: -2.4967205215172434, Limite Superior: 2.421171431701554\n",
            "Outliers na coluna: [3.21042809 2.61495218 2.52949668]\n",
            "Feature 12:\n",
            "Q1: -0.6469717119836963, Q3: 0.5763075119876665, IQR: 1.2232792239713628\n",
            "Limite Inferior: -2.4818905479407403, Limite Superior: 2.4112263479447105\n",
            "Outliers na coluna: [-2.57220579  2.64311614 -3.04916178]\n",
            "Feature 13:\n",
            "Q1: -0.7073979429707691, Q3: 0.5797815591334926, IQR: 1.2871795021042618\n",
            "Limite Inferior: -2.6381671961271618, Limite Superior: 2.5105508122898854\n",
            "Outliers na coluna: [2.67901675 2.79928099]\n",
            "Feature 14:\n",
            "Q1: -0.6933105360413993, Q3: 0.708738167660373, IQR: 1.4020487037017721\n",
            "Limite Inferior: -2.7963835915940574, Limite Superior: 2.8118112232130312\n",
            "Outliers na coluna: [-3.91477129 -3.36405591]\n",
            "(array([[False, False, False, ..., False, False, False],\n",
            "       [False, False, False, ..., False, False, False],\n",
            "       [False, False, False, ..., False, False, False],\n",
            "       ...,\n",
            "       [False, False, False, ..., False, False, False],\n",
            "       [False, False, False, ..., False, False, False],\n",
            "       [False, False, False, ..., False, False, False]]), 41, [np.float64(-3.3207455510139536), np.float64(3.080348597215608), np.float64(-2.8672558471913048), np.float64(2.8256564010354692), np.float64(-3.431664297176324), np.float64(-2.7251970074115617), np.float64(2.912450632014912), np.float64(-2.838492122409564), np.float64(-3.0352118065811973), np.float64(-2.773599430529908), np.float64(2.8730994380587123), np.float64(-2.8099047026371644), np.float64(-2.8523103621432035), np.float64(-3.1895383926025525), np.float64(-2.893375579463217), np.float64(-3.4066699407017302), np.float64(3.1479958169310995), np.float64(2.67527482298652), np.float64(-2.4054721740786675), np.float64(2.530973116354167), np.float64(2.8933833004973066), np.float64(2.665254584553643), np.float64(3.4037282540716522), np.float64(-3.4978892041387373), np.float64(-2.8191262694924113), np.float64(2.7504474458364876), np.float64(-2.704312145468862), np.float64(-2.7852260429309297), np.float64(-2.5800984784881433), np.float64(3.5934704676996554), np.float64(-2.847946263354523), np.float64(3.21042808540926), np.float64(2.6149521833645424), np.float64(2.5294966840696027), np.float64(-2.572205790353678), np.float64(2.6431161356406423), np.float64(-3.049161779915518), np.float64(2.67901675410008), np.float64(2.7992809908971545), np.float64(-3.914771287938219), np.float64(-3.364055907382794)])\n"
          ]
        }
      ],
      "source": [
        "# Solução\n",
        "def locate_outliers(arg):\n",
        "    arr = arg.copy()\n",
        "    observacoes, features = arr.shape\n",
        "    is_outlier = np.zeros((observacoes, features), dtype=bool)\n",
        "    outliers = []\n",
        "\n",
        "    for i in range(features):\n",
        "        coluna = arr[:, i]\n",
        "        Q1 = np.percentile(coluna, 25)\n",
        "        Q3 = np.percentile(coluna, 75)\n",
        "        IQR = Q3 - Q1\n",
        "\n",
        "        lim_inf = Q1 - 1.5*IQR\n",
        "        lim_sup = Q3 + 1.5*IQR\n",
        "\n",
        "        outliers_coluna = (coluna < lim_inf) | (coluna > lim_sup)\n",
        "        is_outlier[:, i] = outliers_coluna\n",
        "\n",
        "        # trouble shooting\n",
        "        print(f\"Feature {i}:\")\n",
        "        print(f\"Q1: {Q1}, Q3: {Q3}, IQR: {IQR}\")\n",
        "        print(f\"Limite Inferior: {lim_inf}, Limite Superior: {lim_sup}\")\n",
        "        print(f\"Outliers na coluna: {coluna[outliers_coluna]}\")\n",
        "\n",
        "        outliers.extend(coluna[outliers_coluna])\n",
        "    \n",
        "    outlier_count = len(outliers)\n",
        "\n",
        "    return is_outlier, outlier_count, outliers\n",
        "\n",
        "print(locate_outliers(arg=np.random.randn(300, 15)))"
      ]
    },
    {
      "cell_type": "markdown",
      "metadata": {
        "id": "upNDn96PE6hq"
      },
      "source": [
        "## Questão 8\n",
        "\n",
        "Crie um vetor com valores que vão de 1 até 21 de dois em dois, a partir da função arange"
      ]
    },
    {
      "cell_type": "code",
      "execution_count": 62,
      "metadata": {
        "id": "w4d14JRZE6hr"
      },
      "outputs": [
        {
          "name": "stdout",
          "output_type": "stream",
          "text": [
            "[ 1  3  5  7  9 11 13 15 17 19]\n"
          ]
        }
      ],
      "source": [
        "arr_vec = np.arange(1, 21, 2)\n",
        "\n",
        "print(arr_vec)"
      ]
    },
    {
      "cell_type": "markdown",
      "metadata": {
        "id": "SchEY1O7E6hr"
      },
      "source": [
        "## Questão 9\n",
        "\n",
        "Crie um array de 10 com valores aleatórios"
      ]
    },
    {
      "cell_type": "code",
      "execution_count": 65,
      "metadata": {
        "id": "MYpySePjE6hs"
      },
      "outputs": [
        {
          "name": "stdout",
          "output_type": "stream",
          "text": [
            "[0.63525172 0.14553026 0.03464723 0.84540611 0.97667743 0.73515141\n",
            " 0.39147655 0.38022549 0.04796811 0.37516272]\n"
          ]
        }
      ],
      "source": [
        "arr = np.random.rand(10)\n",
        "print(arr)"
      ]
    },
    {
      "cell_type": "markdown",
      "metadata": {
        "id": "EFfvM6LIAlfJ"
      },
      "source": [
        "## Questão 10\n",
        "\n",
        "Em estatística, a normalização de uma distribuição de dados pode ser feita subtraindo o valor médio da distribuição de cada valor do conjunto de dados, dividindo o resultado pelo desvio-padrão da distribuição. Escreva uma função que normalize os dados recebidos por um array numpy qualquer, conforme descrito anteriormente."
      ]
    },
    {
      "cell_type": "code",
      "execution_count": 39,
      "metadata": {
        "id": "yfho2bziAlfJ"
      },
      "outputs": [
        {
          "name": "stdout",
          "output_type": "stream",
          "text": [
            "[-0.56174511 -1.15917515  1.79543727 -1.69611465  0.18608043  0.01095542\n",
            "  0.49538899 -0.68975292  1.10440352  0.51452221]\n"
          ]
        }
      ],
      "source": [
        "def normalizacao_dados(arg):\n",
        "    arr = arg.copy()\n",
        "    media = np.mean(arr)\n",
        "    std = np.std(arr)\n",
        "    dados_normalizados = (arr-media)/std\n",
        "    return dados_normalizados\n",
        "\n",
        "print(normalizacao_dados(arg=np.random.rand(10)))"
      ]
    },
    {
      "cell_type": "markdown",
      "metadata": {
        "id": "p60_N7ZwAlfK"
      },
      "source": [
        "## Questão 11\n",
        "\n",
        "Escreva uma função em numpy que receba um array contendo notas de uma turma de 100 estudantes. Considere que a nota de aprovação da turma é 5.0. A função deve retornar, em um array numpy, nesta ordem:\n",
        "- a média e o desvio-padrão das notas da turma;\n",
        "- o número de notas maiores que 7.0;\n",
        "- o número de reprovações da turma;\n",
        "- a menor nota da turma;\n",
        "- a maior nota da turma."
      ]
    },
    {
      "cell_type": "code",
      "execution_count": 38,
      "metadata": {
        "id": "Q3wkBCFtAlfK"
      },
      "outputs": [
        {
          "name": "stdout",
          "output_type": "stream",
          "text": [
            "[ 5.0599     2.9199964 33.        49.         0.08       9.98     ]\n"
          ]
        }
      ],
      "source": [
        "def analisa_notas(notas):\n",
        "    arr = notas.copy()\n",
        "    arr = np.round(arr, 2)\n",
        "\n",
        "    # maior e menor nota\n",
        "    maior_nota = np.max(arr)\n",
        "    menor_nota = np.min(arr)\n",
        "\n",
        "    # media e desvio padrao\n",
        "    media = np.mean(arr)\n",
        "    desvio_padrao = np.std(arr)\n",
        "\n",
        "    # notas maiores que 7 menores que 5\n",
        "    seven_great = np.sum(arr >= 7.00)\n",
        "    reprovado = np.sum(arr < 5.00)\n",
        "\n",
        "    # array de retorno\n",
        "    return np.array([media, desvio_padrao, seven_great, reprovado, menor_nota, maior_nota])\n",
        "\n",
        "notas = np.random.uniform(0.00, 10.00, 100)\n",
        "print(analisa_notas(notas))\n",
        "\n",
        "\n",
        "\n",
        "\n"
      ]
    }
  ],
  "metadata": {
    "colab": {
      "include_colab_link": true,
      "provenance": []
    },
    "kernelspec": {
      "display_name": "SUZANO-TECPROG1",
      "language": "python",
      "name": "python3"
    },
    "language_info": {
      "codemirror_mode": {
        "name": "ipython",
        "version": 3
      },
      "file_extension": ".py",
      "mimetype": "text/x-python",
      "name": "python",
      "nbconvert_exporter": "python",
      "pygments_lexer": "ipython3",
      "version": "3.10.12"
    },
    "orig_nbformat": 4,
    "vscode": {
      "interpreter": {
        "hash": "38d4061a99e7c6638a090ce08c14a66640e6088dc5ef74a7f33c8fdd952ca81d"
      }
    }
  },
  "nbformat": 4,
  "nbformat_minor": 0
}
